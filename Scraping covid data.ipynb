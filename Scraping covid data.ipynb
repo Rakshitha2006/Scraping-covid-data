{
 "cells": [
  {
   "cell_type": "code",
   "execution_count": 1,
   "id": "3b746001",
   "metadata": {},
   "outputs": [
    {
     "name": "stdout",
     "output_type": "stream",
     "text": [
      "Enter country:Australia\n",
      "Cases in Australia\n",
      "Total Cases : 11,752,441       \n",
      "Recovered Cases : N/A\n",
      "Total Deaths : 24,073\n"
     ]
    }
   ],
   "source": [
    "#WEB SCRAPING\n",
    "from bs4 import BeautifulSoup as BS \n",
    "import requests \n",
    "\n",
    "country_name=input(\"Enter country:\")\n",
    "url = \"https://www.worldometers.info/coronavirus/country/{}/\".format(country_name)\n",
    "data = requests.get(url) \n",
    "soup = BS(data.text, 'html.parser') \n",
    "cases = soup.find_all(\"div\", class_ = \"maincounter-number\") \n",
    " \n",
    "total = cases[0].text \n",
    "total = total[1 : len(total) - 2] \n",
    "\n",
    "recovered = cases[2].text \n",
    "recovered = recovered[1 : len(recovered) - 1] \n",
    "\n",
    "deaths = cases[1].text \n",
    "deaths = deaths[1 : len(deaths) - 1] \n",
    "\n",
    "ans ={'Total Cases' : total, 'Recovered Cases' : recovered, \n",
    "      'Total Deaths' : deaths} \n",
    " \n",
    "\n",
    "print(\"Cases in {}\".format(country_name)) \n",
    "for i, j in ans.items(): \n",
    "    print(i + \" : \" + j) "
   ]
  },
  {
   "cell_type": "code",
   "execution_count": null,
   "id": "54edb61b",
   "metadata": {},
   "outputs": [],
   "source": []
  }
 ],
 "metadata": {
  "kernelspec": {
   "display_name": "Python 3 (ipykernel)",
   "language": "python",
   "name": "python3"
  },
  "language_info": {
   "codemirror_mode": {
    "name": "ipython",
    "version": 3
   },
   "file_extension": ".py",
   "mimetype": "text/x-python",
   "name": "python",
   "nbconvert_exporter": "python",
   "pygments_lexer": "ipython3",
   "version": "3.10.9"
  }
 },
 "nbformat": 4,
 "nbformat_minor": 5
}
